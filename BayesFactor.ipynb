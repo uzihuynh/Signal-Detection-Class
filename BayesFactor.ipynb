{
 "cells": [
  {
   "cell_type": "code",
   "execution_count": null,
   "metadata": {},
   "outputs": [],
   "source": []
  }
 ],
 "metadata": {
  "kernelspec": {
   "display_name": "base",
   "language": "python",
   "name": "python3"
  },
  "language_info": {
   "name": "python",
   "version": "3.9.13"
  },
  "orig_nbformat": 4,
  "vscode": {
   "interpreter": {
    "hash": "b9ae39c361068d3c1063697f5db9a35c918a11adadd5c407ad2135a73dc07096"
   }
  }
 },
 "nbformat": 4,
 "nbformat_minor": 2
}
