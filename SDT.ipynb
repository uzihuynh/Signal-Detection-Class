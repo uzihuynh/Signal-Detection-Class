{
 "cells": [
  {
   "cell_type": "code",
   "execution_count": 1,
   "metadata": {},
   "outputs": [
    {
     "name": "stderr",
     "output_type": "stream",
     "text": [
      "....\n",
      "----------------------------------------------------------------------\n",
      "Ran 4 tests in 3.369s\n",
      "\n",
      "OK\n"
     ]
    },
    {
     "data": {
      "text/plain": [
       "<unittest.main.TestProgram at 0x7f85c4f2ba90>"
      ]
     },
     "execution_count": 1,
     "metadata": {},
     "output_type": "execute_result"
    }
   ],
   "source": [
    "import numpy as np\n",
    "import scipy as spi\n",
    "import unittest\n",
    "\n",
    "class SignalDetection:\n",
    "    def __init__(self, hits, misses, false_alarms, correct_rejections):\n",
    "        self.hits = hits\n",
    "        self.misses = misses\n",
    "        self.false_alarms = false_alarms\n",
    "        self.correct_rejections = correct_rejections\n",
    "    \n",
    "    def hit_rate(self):\n",
    "        return (self.hits / (self.hits + self.misses))\n",
    "\n",
    "    def false_alarm_rate(self):\n",
    "        return (self.false_alarms / (self.false_alarms + self.correct_rejections))\n",
    "\n",
    "    def d_prime(self):\n",
    "        return (spi.stats.norm.ppf(self.hit_rate()) - spi.stats.norm.ppf(self.false_alarm_rate()))\n",
    "\n",
    "    def criterion(self):\n",
    "        return -0.5 * (spi.stats.norm.ppf(self.hit_rate()) + spi.stats.norm.ppf(self.false_alarm_rate()))\n",
    " \n",
    "\n",
    "\n",
    "\n",
    "class TestSignalDetection(unittest.TestCase):\n",
    "    def test_d_prime_zero(self):\n",
    "        sd   = SignalDetection(15, 5, 15, 5)\n",
    "        expected = 0\n",
    "        obtained = sd.d_prime()\n",
    "        # Compare calculated and expected d-prime\n",
    "        self.assertAlmostEqual(obtained, expected, places=6)\n",
    "    def test_d_prime_nonzero(self):\n",
    "        sd   = SignalDetection(15, 10, 15, 5)\n",
    "        expected = -0.421142647060282\n",
    "        obtained = sd.d_prime()\n",
    "        # Compare calculated and expected d-prime\n",
    "        self.assertAlmostEqual(obtained, expected, places=6)\n",
    "    def test_criterion_zero(self):\n",
    "        sd   = SignalDetection(5, 5, 5, 5)\n",
    "        # Calculate expected criterion        \n",
    "        expected = 0\n",
    "        obtained = sd.criterion()\n",
    "        # Compare calculated and expected criterion\n",
    "        self.assertAlmostEqual(obtained, expected, places=6)\n",
    "    def test_criterion_nonzero(self):\n",
    "        sd   = SignalDetection(15, 10, 15, 5)\n",
    "        # Calculate expected criterion        \n",
    "        expected = -0.463918426665941\n",
    "        obtained = sd.criterion()\n",
    "        # Compare calculated and expected criterion\n",
    "        self.assertAlmostEqual(obtained, expected, places=6)\n",
    "\n",
    "# Run the tests\n",
    "unittest.main(argv=['first-arg-is-ignored'], exit=False)"
   ]
  }
 ],
 "metadata": {
  "kernelspec": {
   "display_name": "Python 3",
   "language": "python",
   "name": "python3"
  },
  "language_info": {
   "codemirror_mode": {
    "name": "ipython",
    "version": 3
   },
   "file_extension": ".py",
   "mimetype": "text/x-python",
   "name": "python",
   "nbconvert_exporter": "python",
   "pygments_lexer": "ipython3",
   "version": "3.10.4"
  },
  "orig_nbformat": 4,
  "vscode": {
   "interpreter": {
    "hash": "3ad933181bd8a04b432d3370b9dc3b0662ad032c4dfaa4e4f1596c548f763858"
   }
  }
 },
 "nbformat": 4,
 "nbformat_minor": 2
}
