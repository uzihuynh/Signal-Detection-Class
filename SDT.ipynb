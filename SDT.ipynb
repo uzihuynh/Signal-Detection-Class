{
 "cells": [
  {
   "cell_type": "code",
   "execution_count": 3,
   "metadata": {},
   "outputs": [],
   "source": [
    "import numpy as np\n",
    "import scipy as sci\n",
    "\n",
    "class SignalDetectionTheory:\n",
    "    def __init__(self, hits, misses, false_alarms, correct_rejections):\n",
    "        self.hits = hits\n",
    "        self.misses = misses\n",
    "        self.false_alarms = false_alarms\n",
    "        self.correct_rejections = correct_rejections\n",
    "    def hit_rate(self):\n",
    "        return self.hits / (self.hits + self.misses)\n",
    "    def false_alarm_rate(self):\n",
    "        return self.false_alarms / (self.false_alarms + self.correct_rejections)\n",
    "    def d_prime(self):\n",
    "        return "
   ]
  }
 ],
 "metadata": {
  "kernelspec": {
   "display_name": "base",
   "language": "python",
   "name": "python3"
  },
  "language_info": {
   "codemirror_mode": {
    "name": "ipython",
    "version": 3
   },
   "file_extension": ".py",
   "mimetype": "text/x-python",
   "name": "python",
   "nbconvert_exporter": "python",
   "pygments_lexer": "ipython3",
   "version": "3.9.13"
  },
  "orig_nbformat": 4,
  "vscode": {
   "interpreter": {
    "hash": "ad2bdc8ecc057115af97d19610ffacc2b4e99fae6737bb82f5d7fb13d2f2c186"
   }
  }
 },
 "nbformat": 4,
 "nbformat_minor": 2
}
