{
 "cells": [
  {
   "cell_type": "code",
   "execution_count": 13,
   "metadata": {},
   "outputs": [
    {
     "name": "stderr",
     "output_type": "stream",
     "text": [
      "E\n",
      "======================================================================\n",
      "ERROR: test_corrupt_object (__main__.TestSignalDetection)\n",
      "----------------------------------------------------------------------\n",
      "Traceback (most recent call last):\n",
      "  File \"C:\\Users\\Tommie\\AppData\\Local\\Temp\\ipykernel_25988\\3938941713.py\", line 46, in test_corrupt_object\n",
      "    self.assertTrue(np.isnan(sd.hit_rate()))\n",
      "  File \"C:\\Users\\Tommie\\AppData\\Local\\Temp\\ipykernel_25988\\3938941713.py\", line 21, in hit_rate\n",
      "    return (self.hits / (self.hits + self.misses))\n",
      "ZeroDivisionError: division by zero\n",
      "\n",
      "----------------------------------------------------------------------\n",
      "Ran 1 test in 0.001s\n",
      "\n",
      "FAILED (errors=1)\n"
     ]
    }
   ],
   "source": [
    "import numpy as np\n",
    "import scipy as spi\n",
    "import unittest\n",
    "\n",
    "class SignalDetection:\n",
    "    def __init__(self, hits, misses, false_alarms, correct_rejections):\n",
    "        if not isinstance(hits, (int, float)) or hits < 0:\n",
    "            raise ValueError(\"hits must be a non-negative integer or float\")\n",
    "        if not isinstance(misses, (int, float)) or misses < 0:\n",
    "            raise ValueError(\"misses must be a non-negative integer or float\")\n",
    "        if not isinstance(false_alarms, (int, float)) or false_alarms < 0:\n",
    "            raise ValueError(\"false_alarms must be a non-negative integer or float\")\n",
    "        if not isinstance(correct_rejections, (int, float)) or correct_rejections < 0:\n",
    "            raise ValueError(\"correct_rejections must be a non-negative integer or float\")\n",
    "        self.hits = hits\n",
    "        self.misses = misses\n",
    "        self.false_alarms = false_alarms\n",
    "        self.correct_rejections = correct_rejections\n",
    "    \n",
    "    def hit_rate(self):\n",
    "        return (self.hits / (self.hits + self.misses))\n",
    "\n",
    "    def false_alarm_rate(self):\n",
    "        return (self.false_alarms / (self.false_alarms + self.correct_rejections))\n",
    "\n",
    "    def d_prime(self):\n",
    "        return (spi.stats.norm.ppf(self.hit_rate()) - spi.stats.norm.ppf(self.false_alarm_rate()))\n",
    "\n",
    "    def criterion(self):\n",
    "        return -0.5 * (spi.stats.norm.ppf(self.hit_rate()) + spi.stats.norm.ppf(self.false_alarm_rate()))\n",
    "    def __str__(self):\n",
    "        return f\"SignalDetection(hits={self.hits}, misses={self.misses}, false_alarms={self.false_alarms}, correct_rejections={self.correct_rejections})\"\n",
    "class TestSignalDetection(unittest.TestCase):\n",
    "    \n",
    "    def test_corrupt_object(self):\n",
    "        # Create a new SignalDetection object\n",
    "        sd = SignalDetection(10, 5, 2, 20)\n",
    "        \n",
    "        # Corrupt the object by changing every property\n",
    "        sd.hits = 0\n",
    "        sd.misses = 0\n",
    "        sd.false_alarms = 0\n",
    "        sd.correct_rejections = 0\n",
    "        \n",
    "        # Check that the hit rate, false alarm rate, d_prime, and criterion are NaN\n",
    "        self.assertTrue(np.isnan(sd.hit_rate()))\n",
    "        self.assertTrue(np.isnan(sd.false_alarm_rate()))\n",
    "        self.assertTrue(np.isnan(sd.d_prime()))\n",
    "        self.assertTrue(np.isnan(sd.criterion()))\n",
    "    unittest.main(argv=['first-arg-is-ignored'], exit=False)"
   ]
  }
 ],
 "metadata": {
  "kernelspec": {
   "display_name": "base",
   "language": "python",
   "name": "python3"
  },
  "language_info": {
   "codemirror_mode": {
    "name": "ipython",
    "version": 3
   },
   "file_extension": ".py",
   "mimetype": "text/x-python",
   "name": "python",
   "nbconvert_exporter": "python",
   "pygments_lexer": "ipython3",
   "version": "3.9.13"
  },
  "orig_nbformat": 4,
  "vscode": {
   "interpreter": {
    "hash": "b9ae39c361068d3c1063697f5db9a35c918a11adadd5c407ad2135a73dc07096"
   }
  }
 },
 "nbformat": 4,
 "nbformat_minor": 2
}
